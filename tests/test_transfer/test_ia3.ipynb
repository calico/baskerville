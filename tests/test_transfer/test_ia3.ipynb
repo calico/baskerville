{
 "cells": [
  {
   "cell_type": "code",
   "execution_count": 1,
   "id": "73892ca7-0ef3-42fa-8f58-db1476625022",
   "metadata": {},
   "outputs": [
    {
     "name": "stderr",
     "output_type": "stream",
     "text": [
      "2024-06-17 16:32:27.975305: I tensorflow/core/platform/cpu_feature_guard.cc:182] This TensorFlow binary is optimized to use available CPU instructions in performance-critical operations.\n",
      "To enable the following instructions: AVX2 AVX512F FMA, in other operations, rebuild TensorFlow with the appropriate compiler flags.\n",
      "2024-06-17 16:32:40.663143: W tensorflow/compiler/tf2tensorrt/utils/py_utils.cc:38] TF-TRT Warning: Could not find TensorRT\n"
     ]
    }
   ],
   "source": [
    "import re\n",
    "import json\n",
    "import numpy as np\n",
    "import pandas as pd\n",
    "import tensorflow as tf\n",
    "from baskerville import seqnn\n",
    "from baskerville import layers\n",
    "from baskerville import transfer_helper"
   ]
  },
  {
   "cell_type": "code",
   "execution_count": 2,
   "id": "480898e4-1a79-4133-b88f-ae6e2ea4835e",
   "metadata": {},
   "outputs": [],
   "source": [
    "# test if trainable param match expectation\n",
    "def test_add_ia3(model_final):\n",
    "\n",
    "    # expected trainable\n",
    "    params_added = 0\n",
    "    for l in model_final.layers:\n",
    "        if re.match('multihead_attention', l.name): # kv layers\n",
    "            params_added += transfer_helper.param_count(l._k_layer._ia3_layer)\n",
    "            params_added += transfer_helper.param_count(l._v_layer._ia3_layer)\n",
    "        elif re.match('dense', l.name) and l.input_shape[-1]==1536: # ff layers\n",
    "            params_added += transfer_helper.param_count(l._ia3_layer)\n",
    "    \n",
    "    params_head = transfer_helper.param_count(model_final.layers[-2])\n",
    "    print('expect params (ia3): %d'%params_added)\n",
    "    print('expect params (head): %d' % params_head)\n",
    "    print('expect params (total): %d' % (params_head + params_added))\n",
    "\n",
    "    # observed trainable\n",
    "    c1 = transfer_helper.param_count(model_final, 'trainable')\n",
    "    print('trainable count: %d' %c1)\n",
    "    \n",
    "    assert c1==(params_head+params_added)\n",
    "    print(\"assert passed. trainable params match expectation.\")    \n",
    "\n",
    "# test at initialization, output is the same\n",
    "def test_add_ia3_2(model_final):\n",
    "    random_input = np.random.rand(1, model_final.input_shape[-2], model_final.input_shape[-1])\n",
    "    output_original = seqnn_model.model(random_input).numpy()\n",
    "    output_ia3 = model_final(random_input).numpy()\n",
    "    \n",
    "    assert np.allclose(output_original, output_ia3)\n",
    "    print(\"assert passed. at initialization, ia3 output same as pre-train.\")"
   ]
  },
  {
   "cell_type": "code",
   "execution_count": 3,
   "id": "6bab8fb3-981a-43ef-992f-8cb54f991410",
   "metadata": {},
   "outputs": [],
   "source": [
    "test_data_dir = '/home/yuanh/programs/source/python_packages/baskerville/tests/data/transfer'\n",
    "params_file = '%s/params.json' %test_data_dir\n",
    "targets_file = '%s/targets.txt' %test_data_dir"
   ]
  },
  {
   "cell_type": "code",
   "execution_count": 4,
   "id": "95ec1814-82c3-473e-894c-b9a3d608bb9a",
   "metadata": {},
   "outputs": [
    {
     "name": "stderr",
     "output_type": "stream",
     "text": [
      "2024-06-17 16:32:52.777625: I tensorflow/core/common_runtime/gpu/gpu_device.cc:1635] Created device /job:localhost/replica:0/task:0/device:GPU:0 with 22807 MB memory:  -> device: 0, name: NVIDIA TITAN RTX, pci bus id: 0000:1a:00.0, compute capability: 7.5\n"
     ]
    },
    {
     "name": "stdout",
     "output_type": "stream",
     "text": [
      "params added/unfrozen by ia3: 20480\n"
     ]
    }
   ],
   "source": [
    "###################\n",
    "# pre-train model #\n",
    "###################\n",
    "targets_df = pd.read_csv(targets_file, index_col=0, sep=\"\\t\")\n",
    "with open(params_file) as params_open:\n",
    "    params = json.load(params_open)\n",
    "params_model = params[\"model\"]\n",
    "params_train = params[\"train\"]\n",
    "params_model['verbose'] = False\n",
    "\n",
    "# set strand pairs\n",
    "if \"strand_pair\" in targets_df.columns:\n",
    "    params_model[\"strand_pair\"] = [np.array(targets_df.strand_pair)]\n",
    "\n",
    "seqnn_model = seqnn.SeqNN(params_model)\n",
    "strand_pair = np.array(targets_df.strand_pair)\n",
    "\n",
    "#############\n",
    "# ia3 model #\n",
    "#############\n",
    "model_final = transfer_helper.add_ia3(seqnn_model.model, strand_pair)"
   ]
  },
  {
   "cell_type": "code",
   "execution_count": 5,
   "id": "ed3f5c61-8830-4d39-925b-200b01ad1fa5",
   "metadata": {},
   "outputs": [
    {
     "name": "stdout",
     "output_type": "stream",
     "text": [
      "expect params (ia3): 20480\n",
      "expect params (head): 52292\n",
      "expect params (total): 72772\n",
      "trainable count: 72772\n",
      "assert passed. trainable params match expectation.\n"
     ]
    },
    {
     "name": "stderr",
     "output_type": "stream",
     "text": [
      "2024-06-17 16:33:00.103821: I tensorflow/compiler/xla/stream_executor/cuda/cuda_dnn.cc:424] Loaded cuDNN version 8600\n"
     ]
    },
    {
     "name": "stdout",
     "output_type": "stream",
     "text": [
      "assert passed. at initialization, ia3 same as pre-train.\n"
     ]
    }
   ],
   "source": [
    "test_add_ia3(model_final)\n",
    "test_add_ia3_2(model_final)"
   ]
  },
  {
   "cell_type": "code",
   "execution_count": null,
   "id": "e500e589-ef52-4775-9ade-caca53c42035",
   "metadata": {},
   "outputs": [],
   "source": []
  }
 ],
 "metadata": {
  "kernelspec": {
   "display_name": "Python 3 (ipykernel)",
   "language": "python",
   "name": "python3"
  },
  "language_info": {
   "codemirror_mode": {
    "name": "ipython",
    "version": 3
   },
   "file_extension": ".py",
   "mimetype": "text/x-python",
   "name": "python",
   "nbconvert_exporter": "python",
   "pygments_lexer": "ipython3",
   "version": "3.10.12"
  }
 },
 "nbformat": 4,
 "nbformat_minor": 5
}
